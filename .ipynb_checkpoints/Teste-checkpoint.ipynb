{
 "cells": [
  {
   "cell_type": "code",
   "execution_count": null,
   "id": "bc658632",
   "metadata": {},
   "outputs": [],
   "source": [
    "# Importando os módulos necessários\n",
    "import psycopg2\n",
    "import pandas as pd\n",
    "import numpy as np\n",
    "from sklearn.model_selection import train_test_split\n",
    "from sklearn.svm import LinearSVC\n",
    "from sklearn.model_selection import cross_val_score\n",
    "from sklearn import svm\n",
    "from sklearn.model_selection import cross_validate\n",
    "from sklearn.decomposition import PCA\n",
    "from sklearn.externals import joblib"
   ]
  },
  {
   "cell_type": "code",
   "execution_count": null,
   "id": "0c182913",
   "metadata": {},
   "outputs": [],
   "source": [
    "# Verificando a versão do python\n",
    "from platform import python_version\n",
    "print(\"Versão do python: \", python_version())"
   ]
  },
  {
   "cell_type": "markdown",
   "id": "4b703f62",
   "metadata": {},
   "source": [
    "### Acessando as informações do banco de dados"
   ]
  },
  {
   "cell_type": "code",
   "execution_count": null,
   "id": "56d0a06f",
   "metadata": {},
   "outputs": [],
   "source": [
    "# Função para criar conexão com o banco de dados\n",
    "def conecta_db():\n",
    "    try:\n",
    "        con = psycopg2.connect(host='ec2-3-222-74-92.compute-1.amazonaws.com', \n",
    "                             database='dfo2vqe9hs2knm',\n",
    "                             user='zgbodaynfjorzt', \n",
    "                             password='d2b11c0c6039df67f39d22f680fb92a843a1b652e3d5b692f6670c0a2abc2804')\n",
    "        \n",
    "        print(\"Conexão realizada com sucesso\", flush = True)\n",
    "        \n",
    "        return con\n",
    "    \n",
    "    except:\n",
    "        print(\"Erro na conexão\", flush = True)"
   ]
  },
  {
   "cell_type": "code",
   "execution_count": null,
   "id": "233fed02",
   "metadata": {},
   "outputs": [],
   "source": [
    "# Função para consultas no banco\n",
    "def consulta_db(sql, con):\n",
    "    cur = con.cursor()\n",
    "    cur.execute(sql)\n",
    "    column_names = [desc[0] for desc in cur.description]\n",
    "    recset = cur.fetchall()\n",
    "    registros = []\n",
    "    colunas = []\n",
    "    \n",
    "    colunas.append(column_names)\n",
    "    \n",
    "    for rec in recset:\n",
    "        registros.append(rec)\n",
    "        \n",
    "    #con.close()\n",
    "    return registros, colunas"
   ]
  },
  {
   "cell_type": "code",
   "execution_count": null,
   "id": "11ae6fa6",
   "metadata": {},
   "outputs": [],
   "source": [
    "# Realizando a consulta no PostegreSQL\n",
    "con = conecta_db()\n",
    "reg, colunas = consulta_db('select * from tabela', con)\n"
   ]
  },
  {
   "cell_type": "code",
   "execution_count": null,
   "id": "95e4ca8d",
   "metadata": {},
   "outputs": [],
   "source": [
    "# Transformando os dados obtidos em DataFrames\n",
    "# Essa transformação foi feita para facilitar as alterações a serem feitas nos dados.\n",
    "df_tabela = pd.DataFrame(reg, columns = colunas)"
   ]
  },
  {
   "cell_type": "code",
   "execution_count": null,
   "id": "befa4270",
   "metadata": {},
   "outputs": [],
   "source": [
    "# Visualizando algumas informações sobre o dataframe\n",
    "df_tabela.info()"
   ]
  },
  {
   "cell_type": "code",
   "execution_count": null,
   "id": "6ae57e0f",
   "metadata": {},
   "outputs": [],
   "source": [
    "# Visualizando algumas linhas do dataframe\n",
    "df_tabela.head()"
   ]
  },
  {
   "cell_type": "markdown",
   "id": "687de0d6",
   "metadata": {},
   "source": [
    "### Tratamento e Seleção de Features"
   ]
  },
  {
   "cell_type": "markdown",
   "id": "2dfe9b0d",
   "metadata": {},
   "source": [
    "Incialmente alguns atributos já podem ser removidas do dataset pois não possuem relação direta com o obejtivo final. Os atributos escolhidos para serem removidos incialmente foram: \"sistema_operacional\", \"navegador\",\"id_form\", \"id_cliente\", \n",
    "\"data\", \"localizacao\", \"locale, \"cidade\", \"estado\", \"id_pedido\", \"data_pedido\", \"status_pagamento\"."
   ]
  },
  {
   "cell_type": "code",
   "execution_count": null,
   "id": "9978b9fe",
   "metadata": {
    "scrolled": true
   },
   "outputs": [],
   "source": [
    "# Removendo os atributos listados anteriormente\n",
    "df_tabela.drop(columns=[ \"sistema_operacional\", \"navegador\",\"id_form\", \"id_cliente\", \"data\", \"localizacao\", \n",
    "                        \"locale\", \"cidade\", \"estado\", \"id_pedido\", \"data_pedido\", \"status_pagamento\"], inplace = True)"
   ]
  },
  {
   "cell_type": "code",
   "execution_count": null,
   "id": "09d971e4",
   "metadata": {
    "scrolled": true
   },
   "outputs": [],
   "source": [
    "# Criando uma lista para cada efeito desejado, quando o efeitos estiver presente na linha a lista recebe o valor 1, quando não\n",
    "# recebe 0\n",
    "\n",
    "Efeito_1 = []\n",
    "Efeito_2 = []\n",
    "Efeito_3 = []\n",
    "Efeito_4 = []\n",
    "Efeito_5 = []\n",
    "Efeito_6 = []\n",
    "Efeito_7 = []\n",
    "\n",
    "\n",
    "for row in df_tabela.itertuples():\n",
    "    \n",
    "    if \"Efeito 0\" in str(row):\n",
    "        print(\"aqui\")\n",
    "    \n",
    "    if \"Efeito 1\" in str(row):\n",
    "        Efeito_1.append(1)\n",
    "    else:\n",
    "        Efeito_1.append(0)\n",
    "        \n",
    "    if \"Efeito 2\" in str(row):\n",
    "        Efeito_2.append(1)\n",
    "    else:\n",
    "        Efeito_2.append(0)\n",
    "        \n",
    "    if \"Efeito 3\" in str(row):\n",
    "        Efeito_3.append(1)\n",
    "    else:\n",
    "        Efeito_3.append(0)\n",
    "        \n",
    "    if \"Efeito 4\" in str(row):\n",
    "        Efeito_4.append(1)\n",
    "    else:\n",
    "        Efeito_4.append(0)\n",
    "        \n",
    "    if \"Efeito 5\" in str(row):\n",
    "        Efeito_5.append(1)\n",
    "    else:\n",
    "        Efeito_5.append(0)\n",
    "        \n",
    "    if \"Efeito 6\" in str(row):\n",
    "        Efeito_6.append(1)\n",
    "    else:\n",
    "        Efeito_6.append(0)\n",
    "        \n",
    "    if \"Efeito 7\" in str(row):\n",
    "        Efeito_7.append(1)\n",
    "    else:\n",
    "        Efeito_7.append(0)"
   ]
  },
  {
   "cell_type": "code",
   "execution_count": null,
   "id": "18d40999",
   "metadata": {},
   "outputs": [],
   "source": [
    "# Criando uma lista para cada característica, quando a característica estiver presente na linha a lista recebe o valor 1, \n",
    "# quando não recebe 0\n",
    "\n",
    "Caracteristica_1 = []\n",
    "Caracteristica_2 = []\n",
    "Caracteristica_3 = []\n",
    "Caracteristica_4 = []\n",
    "Caracteristica_5 = []\n",
    "Caracteristica_6 = []\n",
    "Caracteristica_7 = []\n",
    "Caracteristica_8 = []\n",
    "\n",
    "\n",
    "for row in df_tabela.itertuples():\n",
    "    \n",
    "    if \"Caracteristica 1\" in str(row):\n",
    "        Caracteristica_1.append(1)\n",
    "    else:\n",
    "        Caracteristica_1.append(0)\n",
    "        \n",
    "    if \"Caracteristica 2\" in str(row):\n",
    "        Caracteristica_2.append(1)\n",
    "    else:\n",
    "        Caracteristica_2.append(0)\n",
    "        \n",
    "    if \"Caracteristica 3\" in str(row):\n",
    "        Caracteristica_3.append(1)\n",
    "    else:\n",
    "        Caracteristica_3.append(0)\n",
    "        \n",
    "    if \"Caracteristica 4\" in str(row):\n",
    "        Caracteristica_4.append(1)\n",
    "    else:\n",
    "        Caracteristica_4.append(0)\n",
    "        \n",
    "    if \"Caracteristica 5\" in str(row):\n",
    "        Caracteristica_5.append(1)\n",
    "    else:\n",
    "        Caracteristica_5.append(0)\n",
    "        \n",
    "    if \"Caracteristica 6\" in str(row):\n",
    "        Caracteristica_6.append(1)\n",
    "    else:\n",
    "        Caracteristica_6.append(0)\n",
    "        \n",
    "    if \"Caracteristica 7\" in str(row):\n",
    "        Caracteristica_7.append(1)\n",
    "    else:\n",
    "        Caracteristica_7.append(0)\n",
    "    \n",
    "    if \"Caracteristica 8\" in str(row):\n",
    "        Caracteristica_8.append(1)\n",
    "    else:\n",
    "        Caracteristica_8.append(0)"
   ]
  },
  {
   "cell_type": "code",
   "execution_count": null,
   "id": "29fcb651",
   "metadata": {},
   "outputs": [],
   "source": [
    "# Criando uma lista para cada procedimento, quando a característica estiver presente na linha a lista recebe o valor 1, \n",
    "# quando não recebe 0\n",
    "\n",
    "Corte_agressivo = []\n",
    "Exposição_ao_sol = []\n",
    "Nenhum = []\n",
    "Tintura = []\n",
    "N_C = []\n",
    "Todos_acima = []\n",
    "\n",
    "for row in df_tabela.itertuples():\n",
    "    \n",
    "    if \"Corte agressivo\" in str(row):\n",
    "        Corte_agressivo.append(1)\n",
    "    else:\n",
    "        Corte_agressivo.append(0)\n",
    "        \n",
    "    if \"Exposição ao sol\" in str(row):\n",
    "        Exposição_ao_sol.append(1)\n",
    "    else:\n",
    "        Exposição_ao_sol.append(0)\n",
    "        \n",
    "    if \"Tintura\" in str(row):\n",
    "        Tintura.append(1)\n",
    "    else:\n",
    "        Tintura.append(0)\n",
    "        \n",
    "    if \"N/C\" in str(row):\n",
    "        N_C.append(1)\n",
    "    else:\n",
    "        N_C.append(0)\n",
    "    \n",
    "    if \"Nenhum\" in str(row):\n",
    "        Nenhum.append(1)\n",
    "    else:\n",
    "        Nenhum.append(0)\n",
    "        \n",
    "    if \"Todos acima\" in str(row):\n",
    "        Todos_acima.append(1)\n",
    "    else:\n",
    "        Todos_acima.append(0)"
   ]
  },
  {
   "cell_type": "code",
   "execution_count": null,
   "id": "8847beb2",
   "metadata": {},
   "outputs": [],
   "source": [
    "# Adicionando as lista anteriores ao dataframe e removendo a coluna \"efeitos_desejados\", \"procedimentos\" e \"características\"\n",
    "df_tabela=df_tabela.assign(Efeito_1=Efeito_1, Efeito_2=Efeito_2, Efeito_3=Efeito_3, Efeito_4=Efeito_4, Efeito_5=Efeito_5, \n",
    "                 Efeito_6= Efeito_6, Efeito_7=Efeito_7, Caracteristica_1=Caracteristica_1, Caracteristica_2=Caracteristica_2,\n",
    "                 Caracteristica_3=Caracteristica_3,Caracteristica_4=Caracteristica_4,Caracteristica_5=Caracteristica_5,\n",
    "                 Caracteristica_6=Caracteristica_6,Caracteristica_7=Caracteristica_7,Caracteristica_8=Caracteristica_8,\n",
    "                 Corte_agressivo=Corte_agressivo,Exposição_ao_sol=Exposição_ao_sol,Tintura=Tintura,N_C=N_C,\n",
    "                 Nenhum=Nenhum,Todos_acima=Todos_acima)\n",
    "df_tabela.drop(columns=[\"efeitos_desejados\", \"caracteristica\", \"procedimentos\"], inplace = True)\n",
    "df_tabela.head()"
   ]
  },
  {
   "cell_type": "code",
   "execution_count": null,
   "id": "b1dd9665",
   "metadata": {},
   "outputs": [],
   "source": [
    "# Transformando algumas variáveis categóricas em númericas. Ex: utm_source que podia ser linkedin, email... agora vai\n",
    "# possuir uma coluna somente para linkedin, outra somente para email. Nas linhas em que linkedin estiver presente a coluna\n",
    "# correspondente irá receber o valor 1.\n",
    "data_final = pd.concat([df_tabela[[\"qtde_lavagem_semana\", \"Efeito_1\", \"Efeito_2\",  \"Efeito_3\",  \"Efeito_4\",  \n",
    "                                   \"Efeito_5\", \"Efeito_6\", \"Efeito_7\", \"Caracteristica_1\", \"Caracteristica_2\",\n",
    "                                   \"Caracteristica_3\", \"Caracteristica_4\", \"Caracteristica_5\", \"Caracteristica_6\",\n",
    "                                   \"Caracteristica_7\", \"Caracteristica_8\", \"Corte_agressivo\", \"Exposição_ao_sol\",\n",
    "                                   \"Nenhum\", \"Tintura\", \"N_C\", \"Todos_acima\", \"target\"]],\n",
    "                pd.get_dummies(df_tabela[[\"utm_source\" ,\"tipo_cabelo\", \"comprimento\", \"tipo_fios\",\n",
    "                                        \"tempo_procedimento\", \"dieta\", \"atividade_fisica\", \"frequencia_estresse\", \n",
    "                                        \"faixa_etaria\",\"fragancia\"]],\n",
    "                                        drop_first = True, prefix_sep='_')], axis = 1)\n",
    "\n",
    "data_final.head()"
   ]
  },
  {
   "cell_type": "markdown",
   "id": "7659cab5",
   "metadata": {},
   "source": [
    "### Reorganizando o dataframe"
   ]
  },
  {
   "cell_type": "code",
   "execution_count": null,
   "id": "a27a814f",
   "metadata": {},
   "outputs": [],
   "source": [
    "# Renomeando as colunas\n",
    "data_final.columns = ['qtde_lavagem_semana','Efeito_1','Efeito_2','Efeito_3','Efeito_4','Efeito_5','Efeito_6','Efeito_7',\n",
    "'Caracteristica_1','Caracteristica_2','Caracteristica_3','Caracteristica_4','Caracteristica_5','Caracteristica_6',\n",
    "'Caracteristica_7','Caracteristica_8','Corte_agressivo','Exposição_ao_sol','Nenhum','Tintura','N_C','Todos_acima',\n",
    "'target','IGShopping','adwords','all','blog','copy_link','cpc','email','email_sf','facebook','facebook' ,'google','incicacao'\n",
    ",'influencer','instagram','linktree','meliuz','microinfluencer','popup','rakuten','salesforce','santander','sendinblue',\n",
    "'sf','sf_camp_email','sf_email_camp','sf_email_flux','sf_sms_camp','sf_wpp_camp','sf_wpp_flu','sf_wpp_flux','site','sms',\n",
    "'telegram','teste_source','tiktok','uaubox','whatsapp','Tipo 2','Tipo 3','Tipo 4','Longo','Muito curto','Raíz exposta',\n",
    "'Pontas duplas','Rebeldes','Secos','Há 1 semana','Há 2 semanas','Há mais de 1 mês','Não houve procedimentos',\n",
    "'Intolerante a lactose','Leve','Nenhuma restrição','N/C','Nunca','Raramente','Sempre','Quase sempre','Regularmente',\n",
    "'Uma vez por mês','18 a 24','2 a 10','25 a 34','35 a 44','45 a 54','55 a 64','65+','Flores do campo','Rosas']"
   ]
  },
  {
   "cell_type": "code",
   "execution_count": null,
   "id": "7c4fe6fa",
   "metadata": {},
   "outputs": [],
   "source": [
    "# Salvando o dataframe e exibindo algumas linhas.\n",
    "data_final.to_csv(\"data.csv\")\n",
    "data_final.head()"
   ]
  },
  {
   "cell_type": "markdown",
   "id": "deac4063",
   "metadata": {},
   "source": [
    "### Escolhendo as features"
   ]
  },
  {
   "cell_type": "code",
   "execution_count": null,
   "id": "71b8a36c",
   "metadata": {},
   "outputs": [],
   "source": [
    "# Separando as variáveis dos alvos\n",
    "x = data_final.drop(columns=[\"target\"])\n",
    "y = data_final[\"target\"]\n",
    "\n",
    "# Aplicando PCA para redução de dimensionalidade. Como o conjunto de dados é bem grande e as transformações feitas\n",
    "# fizeram surgir novas colunas foi aplicado PCA para redução de dimensionalidade com uma perca reduzida 0.5 nas informações\n",
    "# iniciais. \n",
    "# Devido ao tempo também não foi possível investigar outras possíveis técnicas para escolha de features.\n",
    "\n",
    "pca = PCA(.95)\n",
    "principalComponents = pca.fit_transform(x)\n",
    "data_final = pd.DataFrame(data = principalComponents)\n",
    "data_final.head()\n",
    "\n",
    "x = data_final\n",
    "\n",
    "x, x_teste, y, y_teste = train_test_split(x, y, test_size = 0.1, random_state = 0)"
   ]
  },
  {
   "cell_type": "markdown",
   "id": "08b179f8",
   "metadata": {},
   "source": [
    "### Cross validation"
   ]
  },
  {
   "cell_type": "code",
   "execution_count": null,
   "id": "d14927ba",
   "metadata": {},
   "outputs": [],
   "source": [
    "clf = svm.SVC(decision_function_shape='ovo')\n",
    "nome_metricas = ['accuracy', 'precision_macro', 'recall_macro']\n",
    "metricas = cross_validate(clf, x, y, cv=5, scoring=nome_metricas)\n",
    "for met in metricas:\n",
    "    print(f\"- {met}:\")\n",
    "    print(f\"-- {metricas[met]}\")\n",
    "    print(f\"-- {np.mean(metricas[met])} +- {np.std(metricas[met])}\\n\") "
   ]
  },
  {
   "cell_type": "markdown",
   "id": "566154c4",
   "metadata": {},
   "source": [
    "### Salvando o modelo"
   ]
  },
  {
   "cell_type": "code",
   "execution_count": null,
   "id": "9bf6afac",
   "metadata": {},
   "outputs": [],
   "source": [
    "# Save the model as a pickle in a file\n",
    "joblib.dump(knn, 'filename.pkl')"
   ]
  },
  {
   "cell_type": "code",
   "execution_count": null,
   "id": "8560163e",
   "metadata": {},
   "outputs": [],
   "source": [
    "# Carregando o modelo\n",
    "svm_from_joblib = joblib.load('filename.pkl')\n",
    " \n",
    "# Usando o modelo treinado\n",
    "svm_from_joblib.predict(X_test)"
   ]
  }
 ],
 "metadata": {
  "kernelspec": {
   "display_name": "Python 3 (ipykernel)",
   "language": "python",
   "name": "python3"
  },
  "language_info": {
   "codemirror_mode": {
    "name": "ipython",
    "version": 3
   },
   "file_extension": ".py",
   "mimetype": "text/x-python",
   "name": "python",
   "nbconvert_exporter": "python",
   "pygments_lexer": "ipython3",
   "version": "3.9.7"
  }
 },
 "nbformat": 4,
 "nbformat_minor": 5
}
